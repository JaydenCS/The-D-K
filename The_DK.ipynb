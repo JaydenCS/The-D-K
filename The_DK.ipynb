{
  "nbformat": 4,
  "nbformat_minor": 0,
  "metadata": {
    "colab": {
      "provenance": []
    },
    "kernelspec": {
      "name": "python3",
      "display_name": "Python 3"
    },
    "language_info": {
      "name": "python"
    }
  },
  "cells": [
    {
      "cell_type": "markdown",
      "source": [
        "**Problem Statement 1**\n",
        "\n",
        "\n",
        "Our goal is to analyse the data in order to determine which parameters influence placement status and salary, as well as to make other data-driven observations."
      ],
      "metadata": {
        "id": "ZMp009Ze6157"
      }
    },
    {
      "cell_type": "code",
      "source": [
        "from google.colab import drive\n",
        "drive.mount('/content/drive')"
      ],
      "metadata": {
        "colab": {
          "base_uri": "https://localhost:8080/"
        },
        "id": "B-3aSnGS9ASx",
        "outputId": "197ca19d-ca66-45ea-f407-cee852022b43"
      },
      "execution_count": null,
      "outputs": [
        {
          "output_type": "stream",
          "name": "stdout",
          "text": [
            "Mounted at /content/drive\n"
          ]
        }
      ]
    },
    {
      "cell_type": "code",
      "source": [
        "import pandas as pd\n",
        "import numpy as np\n",
        "import seaborn as sns\n",
        "import matplotlib.pyplot as plt"
      ],
      "metadata": {
        "id": "fpv8QGhL9YeT"
      },
      "execution_count": null,
      "outputs": []
    },
    {
      "cell_type": "code",
      "execution_count": null,
      "metadata": {
        "id": "dUXv6Kef5unq",
        "colab": {
          "base_uri": "https://localhost:8080/",
          "height": 424
        },
        "outputId": "bed6c573-adce-42f0-fc0b-86c00638ac73"
      },
      "outputs": [
        {
          "output_type": "execute_result",
          "data": {
            "text/plain": [
              "     sl_no gender  ssc_p    ssc_b  hsc_p    hsc_b     hsc_s  degree_p  \\\n",
              "0        1      M  67.00   Others  91.00   Others  Commerce     58.00   \n",
              "1        2      M  79.33  Central  78.33   Others   Science     77.48   \n",
              "2        3      M  65.00  Central  68.00  Central      Arts     64.00   \n",
              "3        4      M  56.00  Central  52.00  Central   Science     52.00   \n",
              "4        5      M  85.80  Central  73.60  Central  Commerce     73.30   \n",
              "..     ...    ...    ...      ...    ...      ...       ...       ...   \n",
              "210    211      M  80.60   Others  82.00   Others  Commerce     77.60   \n",
              "211    212      M  58.00   Others  60.00   Others   Science     72.00   \n",
              "212    213      M  67.00   Others  67.00   Others  Commerce     73.00   \n",
              "213    214      F  74.00   Others  66.00   Others  Commerce     58.00   \n",
              "214    215      M  62.00  Central  58.00   Others   Science     53.00   \n",
              "\n",
              "      degree_t workex  etest_p specialisation  mba_p      status    salary  \n",
              "0     Sci&Tech     No     55.0         Mkt&HR  58.80      Placed  270000.0  \n",
              "1     Sci&Tech    Yes     86.5        Mkt&Fin  66.28      Placed  200000.0  \n",
              "2    Comm&Mgmt     No     75.0        Mkt&Fin  57.80      Placed  250000.0  \n",
              "3     Sci&Tech     No     66.0         Mkt&HR  59.43  Not Placed       NaN  \n",
              "4    Comm&Mgmt     No     96.8        Mkt&Fin  55.50      Placed  425000.0  \n",
              "..         ...    ...      ...            ...    ...         ...       ...  \n",
              "210  Comm&Mgmt     No     91.0        Mkt&Fin  74.49      Placed  400000.0  \n",
              "211   Sci&Tech     No     74.0        Mkt&Fin  53.62      Placed  275000.0  \n",
              "212  Comm&Mgmt    Yes     59.0        Mkt&Fin  69.72      Placed  295000.0  \n",
              "213  Comm&Mgmt     No     70.0         Mkt&HR  60.23      Placed  204000.0  \n",
              "214  Comm&Mgmt     No     89.0         Mkt&HR  60.22  Not Placed       NaN  \n",
              "\n",
              "[215 rows x 15 columns]"
            ],
            "text/html": [
              "\n",
              "  <div id=\"df-0ed77360-9fa3-42ee-ad5a-2c3a7f2b2e33\">\n",
              "    <div class=\"colab-df-container\">\n",
              "      <div>\n",
              "<style scoped>\n",
              "    .dataframe tbody tr th:only-of-type {\n",
              "        vertical-align: middle;\n",
              "    }\n",
              "\n",
              "    .dataframe tbody tr th {\n",
              "        vertical-align: top;\n",
              "    }\n",
              "\n",
              "    .dataframe thead th {\n",
              "        text-align: right;\n",
              "    }\n",
              "</style>\n",
              "<table border=\"1\" class=\"dataframe\">\n",
              "  <thead>\n",
              "    <tr style=\"text-align: right;\">\n",
              "      <th></th>\n",
              "      <th>sl_no</th>\n",
              "      <th>gender</th>\n",
              "      <th>ssc_p</th>\n",
              "      <th>ssc_b</th>\n",
              "      <th>hsc_p</th>\n",
              "      <th>hsc_b</th>\n",
              "      <th>hsc_s</th>\n",
              "      <th>degree_p</th>\n",
              "      <th>degree_t</th>\n",
              "      <th>workex</th>\n",
              "      <th>etest_p</th>\n",
              "      <th>specialisation</th>\n",
              "      <th>mba_p</th>\n",
              "      <th>status</th>\n",
              "      <th>salary</th>\n",
              "    </tr>\n",
              "  </thead>\n",
              "  <tbody>\n",
              "    <tr>\n",
              "      <th>0</th>\n",
              "      <td>1</td>\n",
              "      <td>M</td>\n",
              "      <td>67.00</td>\n",
              "      <td>Others</td>\n",
              "      <td>91.00</td>\n",
              "      <td>Others</td>\n",
              "      <td>Commerce</td>\n",
              "      <td>58.00</td>\n",
              "      <td>Sci&amp;Tech</td>\n",
              "      <td>No</td>\n",
              "      <td>55.0</td>\n",
              "      <td>Mkt&amp;HR</td>\n",
              "      <td>58.80</td>\n",
              "      <td>Placed</td>\n",
              "      <td>270000.0</td>\n",
              "    </tr>\n",
              "    <tr>\n",
              "      <th>1</th>\n",
              "      <td>2</td>\n",
              "      <td>M</td>\n",
              "      <td>79.33</td>\n",
              "      <td>Central</td>\n",
              "      <td>78.33</td>\n",
              "      <td>Others</td>\n",
              "      <td>Science</td>\n",
              "      <td>77.48</td>\n",
              "      <td>Sci&amp;Tech</td>\n",
              "      <td>Yes</td>\n",
              "      <td>86.5</td>\n",
              "      <td>Mkt&amp;Fin</td>\n",
              "      <td>66.28</td>\n",
              "      <td>Placed</td>\n",
              "      <td>200000.0</td>\n",
              "    </tr>\n",
              "    <tr>\n",
              "      <th>2</th>\n",
              "      <td>3</td>\n",
              "      <td>M</td>\n",
              "      <td>65.00</td>\n",
              "      <td>Central</td>\n",
              "      <td>68.00</td>\n",
              "      <td>Central</td>\n",
              "      <td>Arts</td>\n",
              "      <td>64.00</td>\n",
              "      <td>Comm&amp;Mgmt</td>\n",
              "      <td>No</td>\n",
              "      <td>75.0</td>\n",
              "      <td>Mkt&amp;Fin</td>\n",
              "      <td>57.80</td>\n",
              "      <td>Placed</td>\n",
              "      <td>250000.0</td>\n",
              "    </tr>\n",
              "    <tr>\n",
              "      <th>3</th>\n",
              "      <td>4</td>\n",
              "      <td>M</td>\n",
              "      <td>56.00</td>\n",
              "      <td>Central</td>\n",
              "      <td>52.00</td>\n",
              "      <td>Central</td>\n",
              "      <td>Science</td>\n",
              "      <td>52.00</td>\n",
              "      <td>Sci&amp;Tech</td>\n",
              "      <td>No</td>\n",
              "      <td>66.0</td>\n",
              "      <td>Mkt&amp;HR</td>\n",
              "      <td>59.43</td>\n",
              "      <td>Not Placed</td>\n",
              "      <td>NaN</td>\n",
              "    </tr>\n",
              "    <tr>\n",
              "      <th>4</th>\n",
              "      <td>5</td>\n",
              "      <td>M</td>\n",
              "      <td>85.80</td>\n",
              "      <td>Central</td>\n",
              "      <td>73.60</td>\n",
              "      <td>Central</td>\n",
              "      <td>Commerce</td>\n",
              "      <td>73.30</td>\n",
              "      <td>Comm&amp;Mgmt</td>\n",
              "      <td>No</td>\n",
              "      <td>96.8</td>\n",
              "      <td>Mkt&amp;Fin</td>\n",
              "      <td>55.50</td>\n",
              "      <td>Placed</td>\n",
              "      <td>425000.0</td>\n",
              "    </tr>\n",
              "    <tr>\n",
              "      <th>...</th>\n",
              "      <td>...</td>\n",
              "      <td>...</td>\n",
              "      <td>...</td>\n",
              "      <td>...</td>\n",
              "      <td>...</td>\n",
              "      <td>...</td>\n",
              "      <td>...</td>\n",
              "      <td>...</td>\n",
              "      <td>...</td>\n",
              "      <td>...</td>\n",
              "      <td>...</td>\n",
              "      <td>...</td>\n",
              "      <td>...</td>\n",
              "      <td>...</td>\n",
              "      <td>...</td>\n",
              "    </tr>\n",
              "    <tr>\n",
              "      <th>210</th>\n",
              "      <td>211</td>\n",
              "      <td>M</td>\n",
              "      <td>80.60</td>\n",
              "      <td>Others</td>\n",
              "      <td>82.00</td>\n",
              "      <td>Others</td>\n",
              "      <td>Commerce</td>\n",
              "      <td>77.60</td>\n",
              "      <td>Comm&amp;Mgmt</td>\n",
              "      <td>No</td>\n",
              "      <td>91.0</td>\n",
              "      <td>Mkt&amp;Fin</td>\n",
              "      <td>74.49</td>\n",
              "      <td>Placed</td>\n",
              "      <td>400000.0</td>\n",
              "    </tr>\n",
              "    <tr>\n",
              "      <th>211</th>\n",
              "      <td>212</td>\n",
              "      <td>M</td>\n",
              "      <td>58.00</td>\n",
              "      <td>Others</td>\n",
              "      <td>60.00</td>\n",
              "      <td>Others</td>\n",
              "      <td>Science</td>\n",
              "      <td>72.00</td>\n",
              "      <td>Sci&amp;Tech</td>\n",
              "      <td>No</td>\n",
              "      <td>74.0</td>\n",
              "      <td>Mkt&amp;Fin</td>\n",
              "      <td>53.62</td>\n",
              "      <td>Placed</td>\n",
              "      <td>275000.0</td>\n",
              "    </tr>\n",
              "    <tr>\n",
              "      <th>212</th>\n",
              "      <td>213</td>\n",
              "      <td>M</td>\n",
              "      <td>67.00</td>\n",
              "      <td>Others</td>\n",
              "      <td>67.00</td>\n",
              "      <td>Others</td>\n",
              "      <td>Commerce</td>\n",
              "      <td>73.00</td>\n",
              "      <td>Comm&amp;Mgmt</td>\n",
              "      <td>Yes</td>\n",
              "      <td>59.0</td>\n",
              "      <td>Mkt&amp;Fin</td>\n",
              "      <td>69.72</td>\n",
              "      <td>Placed</td>\n",
              "      <td>295000.0</td>\n",
              "    </tr>\n",
              "    <tr>\n",
              "      <th>213</th>\n",
              "      <td>214</td>\n",
              "      <td>F</td>\n",
              "      <td>74.00</td>\n",
              "      <td>Others</td>\n",
              "      <td>66.00</td>\n",
              "      <td>Others</td>\n",
              "      <td>Commerce</td>\n",
              "      <td>58.00</td>\n",
              "      <td>Comm&amp;Mgmt</td>\n",
              "      <td>No</td>\n",
              "      <td>70.0</td>\n",
              "      <td>Mkt&amp;HR</td>\n",
              "      <td>60.23</td>\n",
              "      <td>Placed</td>\n",
              "      <td>204000.0</td>\n",
              "    </tr>\n",
              "    <tr>\n",
              "      <th>214</th>\n",
              "      <td>215</td>\n",
              "      <td>M</td>\n",
              "      <td>62.00</td>\n",
              "      <td>Central</td>\n",
              "      <td>58.00</td>\n",
              "      <td>Others</td>\n",
              "      <td>Science</td>\n",
              "      <td>53.00</td>\n",
              "      <td>Comm&amp;Mgmt</td>\n",
              "      <td>No</td>\n",
              "      <td>89.0</td>\n",
              "      <td>Mkt&amp;HR</td>\n",
              "      <td>60.22</td>\n",
              "      <td>Not Placed</td>\n",
              "      <td>NaN</td>\n",
              "    </tr>\n",
              "  </tbody>\n",
              "</table>\n",
              "<p>215 rows × 15 columns</p>\n",
              "</div>\n",
              "      <button class=\"colab-df-convert\" onclick=\"convertToInteractive('df-0ed77360-9fa3-42ee-ad5a-2c3a7f2b2e33')\"\n",
              "              title=\"Convert this dataframe to an interactive table.\"\n",
              "              style=\"display:none;\">\n",
              "        \n",
              "  <svg xmlns=\"http://www.w3.org/2000/svg\" height=\"24px\"viewBox=\"0 0 24 24\"\n",
              "       width=\"24px\">\n",
              "    <path d=\"M0 0h24v24H0V0z\" fill=\"none\"/>\n",
              "    <path d=\"M18.56 5.44l.94 2.06.94-2.06 2.06-.94-2.06-.94-.94-2.06-.94 2.06-2.06.94zm-11 1L8.5 8.5l.94-2.06 2.06-.94-2.06-.94L8.5 2.5l-.94 2.06-2.06.94zm10 10l.94 2.06.94-2.06 2.06-.94-2.06-.94-.94-2.06-.94 2.06-2.06.94z\"/><path d=\"M17.41 7.96l-1.37-1.37c-.4-.4-.92-.59-1.43-.59-.52 0-1.04.2-1.43.59L10.3 9.45l-7.72 7.72c-.78.78-.78 2.05 0 2.83L4 21.41c.39.39.9.59 1.41.59.51 0 1.02-.2 1.41-.59l7.78-7.78 2.81-2.81c.8-.78.8-2.07 0-2.86zM5.41 20L4 18.59l7.72-7.72 1.47 1.35L5.41 20z\"/>\n",
              "  </svg>\n",
              "      </button>\n",
              "      \n",
              "  <style>\n",
              "    .colab-df-container {\n",
              "      display:flex;\n",
              "      flex-wrap:wrap;\n",
              "      gap: 12px;\n",
              "    }\n",
              "\n",
              "    .colab-df-convert {\n",
              "      background-color: #E8F0FE;\n",
              "      border: none;\n",
              "      border-radius: 50%;\n",
              "      cursor: pointer;\n",
              "      display: none;\n",
              "      fill: #1967D2;\n",
              "      height: 32px;\n",
              "      padding: 0 0 0 0;\n",
              "      width: 32px;\n",
              "    }\n",
              "\n",
              "    .colab-df-convert:hover {\n",
              "      background-color: #E2EBFA;\n",
              "      box-shadow: 0px 1px 2px rgba(60, 64, 67, 0.3), 0px 1px 3px 1px rgba(60, 64, 67, 0.15);\n",
              "      fill: #174EA6;\n",
              "    }\n",
              "\n",
              "    [theme=dark] .colab-df-convert {\n",
              "      background-color: #3B4455;\n",
              "      fill: #D2E3FC;\n",
              "    }\n",
              "\n",
              "    [theme=dark] .colab-df-convert:hover {\n",
              "      background-color: #434B5C;\n",
              "      box-shadow: 0px 1px 3px 1px rgba(0, 0, 0, 0.15);\n",
              "      filter: drop-shadow(0px 1px 2px rgba(0, 0, 0, 0.3));\n",
              "      fill: #FFFFFF;\n",
              "    }\n",
              "  </style>\n",
              "\n",
              "      <script>\n",
              "        const buttonEl =\n",
              "          document.querySelector('#df-0ed77360-9fa3-42ee-ad5a-2c3a7f2b2e33 button.colab-df-convert');\n",
              "        buttonEl.style.display =\n",
              "          google.colab.kernel.accessAllowed ? 'block' : 'none';\n",
              "\n",
              "        async function convertToInteractive(key) {\n",
              "          const element = document.querySelector('#df-0ed77360-9fa3-42ee-ad5a-2c3a7f2b2e33');\n",
              "          const dataTable =\n",
              "            await google.colab.kernel.invokeFunction('convertToInteractive',\n",
              "                                                     [key], {});\n",
              "          if (!dataTable) return;\n",
              "\n",
              "          const docLinkHtml = 'Like what you see? Visit the ' +\n",
              "            '<a target=\"_blank\" href=https://colab.research.google.com/notebooks/data_table.ipynb>data table notebook</a>'\n",
              "            + ' to learn more about interactive tables.';\n",
              "          element.innerHTML = '';\n",
              "          dataTable['output_type'] = 'display_data';\n",
              "          await google.colab.output.renderOutput(dataTable, element);\n",
              "          const docLink = document.createElement('div');\n",
              "          docLink.innerHTML = docLinkHtml;\n",
              "          element.appendChild(docLink);\n",
              "        }\n",
              "      </script>\n",
              "    </div>\n",
              "  </div>\n",
              "  "
            ]
          },
          "metadata": {},
          "execution_count": 4
        }
      ],
      "source": [
        "import os\n",
        "\n",
        "df = pd.read_csv(\"/content/drive/MyDrive/Data.csv\")\n",
        "df"
      ]
    },
    {
      "cell_type": "markdown",
      "source": [
        "Analysing data with various visualisation tools."
      ],
      "metadata": {
        "id": "V_q8mYsU-LbB"
      }
    },
    {
      "cell_type": "code",
      "source": [
        "corr_matrix = df.corr()\n",
        "# Plot correlation matrix using seaborn\n",
        "sns.heatmap(corr_matrix, cmap='coolwarm', annot=True)\n",
        "# Show plot\n",
        "plt.show()"
      ],
      "metadata": {
        "id": "OR1b8Lr99ox8",
        "colab": {
          "base_uri": "https://localhost:8080/",
          "height": 306
        },
        "outputId": "911644a4-515f-468b-a38f-6c8a865bf7da"
      },
      "execution_count": null,
      "outputs": [
        {
          "output_type": "display_data",
          "data": {
            "text/plain": [
              "<Figure size 432x288 with 2 Axes>"
            ],
            "image/png": "[encoded data removed]"
          },
          "metadata": {
            "needs_background": "light"
          }
        }
      ]
    },
    {
      "cell_type": "markdown",
      "source": [
        "A correlation between placement status and other parameters couldn't be found since placement status is given as a boolean. We must use charts to analyse the data because the correlation between salary and other parameters is inaccurate."
      ],
      "metadata": {
        "id": "LB6_CJAqAJ_H"
      }
    },
    {
      "cell_type": "code",
      "source": [
        "plt.hist(df['ssc_b'])"
      ],
      "metadata": {
        "id": "uJnEGKLZB48Y",
        "colab": {
          "base_uri": "https://localhost:8080/",
          "height": 318
        },
        "outputId": "e98757ed-1916-4a97-8973-d52a33a43a6c"
      },
      "execution_count": null,
      "outputs": [
        {
          "output_type": "execute_result",
          "data": {
            "text/plain": [
              "(array([ 99.,   0.,   0.,   0.,   0.,   0.,   0.,   0.,   0., 116.]),\n",
              " array([0. , 0.1, 0.2, 0.3, 0.4, 0.5, 0.6, 0.7, 0.8, 0.9, 1. ]),\n",
              " <BarContainer object of 10 artists>)"
            ]
          },
          "metadata": {},
          "execution_count": 48
        },
        {
          "output_type": "display_data",
          "data": {
            "text/plain": [
              "<Figure size 432x288 with 1 Axes>"
            ],
            "image/png": "[encoded data removed]"
          },
          "metadata": {
            "needs_background": "light"
          }
        }
      ]
    },
    {
      "cell_type": "markdown",
      "source": [
        "Nearly 116 students have completed their secondary education under the Central Board and 99 students under other boards."
      ],
      "metadata": {
        "id": "E1rPigpPraB5"
      }
    },
    {
      "cell_type": "code",
      "source": [
        "plt.hist(df['hsc_b'])"
      ],
      "metadata": {
        "colab": {
          "base_uri": "https://localhost:8080/",
          "height": 317
        },
        "id": "vZQGNqFvCtTp",
        "outputId": "8ed83737-bb43-4bb9-db4e-c121b042c53d"
      },
      "execution_count": null,
      "outputs": [
        {
          "output_type": "execute_result",
          "data": {
            "text/plain": [
              "(array([131.,   0.,   0.,   0.,   0.,   0.,   0.,   0.,   0.,  84.]),\n",
              " array([0. , 0.1, 0.2, 0.3, 0.4, 0.5, 0.6, 0.7, 0.8, 0.9, 1. ]),\n",
              " <BarContainer object of 10 artists>)"
            ]
          },
          "metadata": {},
          "execution_count": 49
        },
        {
          "output_type": "display_data",
          "data": {
            "text/plain": [
              "<Figure size 432x288 with 1 Axes>"
            ],
            "image/png": "[encoded data removed]"
          },
          "metadata": {
            "needs_background": "light"
          }
        }
      ]
    },
    {
      "cell_type": "markdown",
      "source": [
        "130 students have completed their senior secondary education under the Other Board, and 85 students under other boards."
      ],
      "metadata": {
        "id": "smRy51ZdsOML"
      }
    },
    {
      "cell_type": "code",
      "source": [
        "plt.scatter(df['ssc_p'],df['status'])"
      ],
      "metadata": {
        "colab": {
          "base_uri": "https://localhost:8080/",
          "height": 282
        },
        "id": "sHaZtoidDGST",
        "outputId": "63aa8b0d-7767-4f29-843f-20eabf4cdc65"
      },
      "execution_count": null,
      "outputs": [
        {
          "output_type": "execute_result",
          "data": {
            "text/plain": [
              "<matplotlib.collections.PathCollection at 0x7f3b5c34fa90>"
            ]
          },
          "metadata": {},
          "execution_count": 51
        },
        {
          "output_type": "display_data",
          "data": {
            "text/plain": [
              "<Figure size 432x288 with 1 Axes>"
            ],
            "image/png": "[encoded data removed]"
          },
          "metadata": {
            "needs_background": "light"
          }
        }
      ]
    },
    {
      "cell_type": "markdown",
      "source": [
        "Students with 60% or above in secondary education are more likely to get placed, and those with 80% or above are placed no matter what.\n",
        "\n"
      ],
      "metadata": {
        "id": "pd-mx5uSs0xf"
      }
    },
    {
      "cell_type": "code",
      "source": [
        "plt.scatter(df['hsc_p'],df['status'])"
      ],
      "metadata": {
        "colab": {
          "base_uri": "https://localhost:8080/",
          "height": 282
        },
        "id": "W9tfGDc1C2hX",
        "outputId": "054f142b-0c44-4e77-fbf3-f69d68165c77"
      },
      "execution_count": null,
      "outputs": [
        {
          "output_type": "execute_result",
          "data": {
            "text/plain": [
              "<matplotlib.collections.PathCollection at 0x7f3b5c095c10>"
            ]
          },
          "metadata": {},
          "execution_count": 50
        },
        {
          "output_type": "display_data",
          "data": {
            "text/plain": [
              "<Figure size 432x288 with 1 Axes>"
            ],
            "image/png": "[encoded data removed]"
          },
          "metadata": {
            "needs_background": "light"
          }
        }
      ]
    },
    {
      "cell_type": "markdown",
      "source": [
        "Most likely to get placed if student scored 60% or above in senior secondary and students with 80% or above has very high chance or are most probably placed 95% of the time. "
      ],
      "metadata": {
        "id": "xytpue2msgZ6"
      }
    },
    {
      "cell_type": "code",
      "source": [
        "plt.scatter(df['etest_p'],df['status'])"
      ],
      "metadata": {
        "colab": {
          "base_uri": "https://localhost:8080/",
          "height": 282
        },
        "id": "pt6X0ps1TX_D",
        "outputId": "3aa00faa-2bc8-412b-8512-263ee03184a9"
      },
      "execution_count": null,
      "outputs": [
        {
          "output_type": "execute_result",
          "data": {
            "text/plain": [
              "<matplotlib.collections.PathCollection at 0x7f3b5bfe05e0>"
            ]
          },
          "metadata": {},
          "execution_count": 52
        },
        {
          "output_type": "display_data",
          "data": {
            "text/plain": [
              "<Figure size 432x288 with 1 Axes>"
            ],
            "image/png": "[encoded data removed]"
          },
          "metadata": {
            "needs_background": "light"
          }
        }
      ]
    },
    {
      "cell_type": "markdown",
      "source": [
        "Students with low as well as high employability test percentages are found to be placed. does not find a trend in the employability test percentage."
      ],
      "metadata": {
        "id": "j7CFiJ0Et9RY"
      }
    },
    {
      "cell_type": "code",
      "source": [
        "plt.scatter(df['mba_p'],df['status'])"
      ],
      "metadata": {
        "colab": {
          "base_uri": "https://localhost:8080/",
          "height": 282
        },
        "id": "TglbzvxFTYG8",
        "outputId": "3a903cc5-2fbf-4c9c-dc2a-3d2f5e8e3170"
      },
      "execution_count": null,
      "outputs": [
        {
          "output_type": "execute_result",
          "data": {
            "text/plain": [
              "<matplotlib.collections.PathCollection at 0x7f3b5bf8b7f0>"
            ]
          },
          "metadata": {},
          "execution_count": 53
        },
        {
          "output_type": "display_data",
          "data": {
            "text/plain": [
              "<Figure size 432x288 with 1 Axes>"
            ],
            "image/png": "[encoded data removed]"
          },
          "metadata": {
            "needs_background": "light"
          }
        }
      ]
    },
    {
      "cell_type": "markdown",
      "source": [
        "Students with a pass percentage of between 60% and 70% are likely to get placed. Students with 70% and above are more likely to get placed with a much higher probability (0.92)."
      ],
      "metadata": {
        "id": "cl622nGKuIR-"
      }
    },
    {
      "cell_type": "code",
      "source": [
        "plt.scatter(df['degree_p'],df['status'])"
      ],
      "metadata": {
        "colab": {
          "base_uri": "https://localhost:8080/",
          "height": 282
        },
        "id": "4qc2m3gLTYMx",
        "outputId": "d1644ba6-a440-47b0-e601-5705b3d43f87"
      },
      "execution_count": null,
      "outputs": [
        {
          "output_type": "execute_result",
          "data": {
            "text/plain": [
              "<matplotlib.collections.PathCollection at 0x7f3b5bf1ce20>"
            ]
          },
          "metadata": {},
          "execution_count": 54
        },
        {
          "output_type": "display_data",
          "data": {
            "text/plain": [
              "<Figure size 432x288 with 1 Axes>"
            ],
            "image/png": "[encoded data removed]"
          },
          "metadata": {
            "needs_background": "light"
          }
        }
      ]
    },
    {
      "cell_type": "markdown",
      "source": [
        "Students who achieved between 60% and 70% are more likely to get placed than students who achieved less than 60%.\n",
        "Students who scored between 70% and 80% have a better chance of being placed than those who scored lower.\n",
        "Students who achieved 80% or above are placed, no matter what."
      ],
      "metadata": {
        "id": "wjd1GIe0ulXw"
      }
    },
    {
      "cell_type": "code",
      "source": [
        "plt.scatter(df['gender'], df['salary'])\n"
      ],
      "metadata": {
        "id": "10_wq0wQUw5r",
        "outputId": "eebcd436-611e-48f4-d02c-f249ecac5c4e",
        "colab": {
          "base_uri": "https://localhost:8080/",
          "height": 282
        }
      },
      "execution_count": null,
      "outputs": [
        {
          "output_type": "execute_result",
          "data": {
            "text/plain": [
              "<matplotlib.collections.PathCollection at 0x7f3b5be60eb0>"
            ]
          },
          "metadata": {},
          "execution_count": 56
        },
        {
          "output_type": "display_data",
          "data": {
            "text/plain": [
              "<Figure size 432x288 with 1 Axes>"
            ],
            "image/png": "[encoded data removed]"
          },
          "metadata": {
            "needs_background": "light"
          }
        }
      ]
    },
    {
      "cell_type": "markdown",
      "source": [
        "Male and female employees are most likely to earn between 2,00,000 to 3,30,000 rupees per year.\n",
        "A woman's maximum salary is approximately Rs 6,50,000, while a man's maximum salary is approximately Rs 9,50,000 or higher."
      ],
      "metadata": {
        "id": "GaYhFJBNuvYt"
      }
    },
    {
      "cell_type": "code",
      "source": [
        "plt.scatter(df['ssc_b'], df['salary'])"
      ],
      "metadata": {
        "colab": {
          "base_uri": "https://localhost:8080/",
          "height": 282
        },
        "id": "dHW5lFu0FxjN",
        "outputId": "ff7916b4-2605-4351-8cfe-d22562c2f4c9"
      },
      "execution_count": null,
      "outputs": [
        {
          "output_type": "execute_result",
          "data": {
            "text/plain": [
              "<matplotlib.collections.PathCollection at 0x7f3b5becd4c0>"
            ]
          },
          "metadata": {},
          "execution_count": 55
        },
        {
          "output_type": "display_data",
          "data": {
            "text/plain": [
              "<Figure size 432x288 with 1 Axes>"
            ],
            "image/png": "[encoded data removed]"
          },
          "metadata": {
            "needs_background": "light"
          }
        }
      ]
    },
    {
      "cell_type": "markdown",
      "source": [
        "Students who studied secondary education under \"other boards\" typically earn between 2,00,000 and 3,00,000 rupees per year, with a maximum salary of Rs 5,00,000.\n",
        "Students who studied secondary education under the \"central board\" are found to have salaries in the range of Rs 2,00,000 to Rs 4,00,000 and a maximum salary of Rs 9,50,000."
      ],
      "metadata": {
        "id": "T2I26Vc2vJiY"
      }
    },
    {
      "cell_type": "code",
      "source": [
        "plt.scatter(df['hsc_b'], df['salary'])"
      ],
      "metadata": {
        "colab": {
          "base_uri": "https://localhost:8080/",
          "height": 282
        },
        "id": "RhAme0WfSvGd",
        "outputId": "b83929f0-4b52-4306-df7c-04ea6081f2ed"
      },
      "execution_count": null,
      "outputs": [
        {
          "output_type": "execute_result",
          "data": {
            "text/plain": [
              "<matplotlib.collections.PathCollection at 0x7f3b5bdd0520>"
            ]
          },
          "metadata": {},
          "execution_count": 57
        },
        {
          "output_type": "display_data",
          "data": {
            "text/plain": [
              "<Figure size 432x288 with 1 Axes>"
            ],
            "image/png": "[encoded data removed]"
          },
          "metadata": {
            "needs_background": "light"
          }
        }
      ]
    },
    {
      "cell_type": "markdown",
      "source": [
        "Students who completed their secondary education through \"other boards\" can expect to earn between 2,00,000 and 3,00,000 rupees per year, with a maximum salary of Rs 6,50,000.\n",
        "Students who studied Higher\n",
        " Secondary Education under the \"central board\" have a salary range of Rs 2,00,000 to Rs 4,50,000, with a maximum salary of Rs 9,50,000"
      ],
      "metadata": {
        "id": "9QroiYCtvNrh"
      }
    },
    {
      "cell_type": "code",
      "source": [
        "plt.scatter(df['workex'], df['salary'])\n"
      ],
      "metadata": {
        "colab": {
          "base_uri": "https://localhost:8080/",
          "height": 282
        },
        "id": "mjhWMnxKYhPQ",
        "outputId": "329bcefb-9e06-4cc2-fb51-43fa14e891d0"
      },
      "execution_count": null,
      "outputs": [
        {
          "output_type": "execute_result",
          "data": {
            "text/plain": [
              "<matplotlib.collections.PathCollection at 0x7f3b5ba64af0>"
            ]
          },
          "metadata": {},
          "execution_count": 70
        },
        {
          "output_type": "display_data",
          "data": {
            "text/plain": [
              "<Figure size 432x288 with 1 Axes>"
            ],
            "image/png": "[encoded data removed]"
          },
          "metadata": {
            "needs_background": "light"
          }
        }
      ]
    },
    {
      "cell_type": "markdown",
      "source": [
        "Students with and without work experience have equal chances of getting placed, but salaries vary.\n",
        "The average salary for a student with and without work experience is found to be between Rs 2,00,000 and Rs 3,00,000.\n",
        "Students with work experience have been found to have significantly higher\n",
        "salary ranging up to Rs 9,50,000\n",
        "Students without work experience have a salary maximum of up to Rs 5,00,000."
      ],
      "metadata": {
        "id": "8bBTF-gkvscj"
      }
    },
    {
      "cell_type": "code",
      "source": [
        "plt.scatter(df['degree_t'], df['salary'])\n"
      ],
      "metadata": {
        "colab": {
          "base_uri": "https://localhost:8080/",
          "height": 282
        },
        "id": "CMxeaHrSF5fl",
        "outputId": "67db6d10-f96f-4add-f5ce-50fc1d9cde76"
      },
      "execution_count": null,
      "outputs": [
        {
          "output_type": "execute_result",
          "data": {
            "text/plain": [
              "<matplotlib.collections.PathCollection at 0x7f3b5bd207c0>"
            ]
          },
          "metadata": {},
          "execution_count": 59
        },
        {
          "output_type": "display_data",
          "data": {
            "text/plain": [
              "<Figure size 432x288 with 1 Axes>"
            ],
            "image/png": "[encoded data removed]"
          },
          "metadata": {
            "needs_background": "light"
          }
        }
      ]
    },
    {
      "cell_type": "markdown",
      "source": [
        "Both science and technology and commerce management students are likely to be placed with salaries ranging from Rs 2,00,000 to Rs 3,70,000, with a maximum of Rs 7,00,000 for science and technology.\n",
        "Students with a commerce or management degree are more likely to be placed with salaries ranging from Rs 3,00,000 to Rs 9,00,000.\n",
        "Students with other degrees can expect to earn between 2,00,000 and 3,50,000 rupees per year."
      ],
      "metadata": {
        "id": "Q8AcheaPvxtc"
      }
    },
    {
      "cell_type": "code",
      "source": [
        "plt.scatter(df['specialisation'], df['salary'])"
      ],
      "metadata": {
        "colab": {
          "base_uri": "https://localhost:8080/",
          "height": 282
        },
        "id": "kETYuwH_F1-T",
        "outputId": "107cf2bf-b22d-41bb-da28-f5e95ccfd3a9"
      },
      "execution_count": null,
      "outputs": [
        {
          "output_type": "execute_result",
          "data": {
            "text/plain": [
              "<matplotlib.collections.PathCollection at 0x7f3b5bc89b20>"
            ]
          },
          "metadata": {},
          "execution_count": 60
        },
        {
          "output_type": "display_data",
          "data": {
            "text/plain": [
              "<Figure size 432x288 with 1 Axes>"
            ],
            "image/png": "[encoded data removed]"
          },
          "metadata": {
            "needs_background": "light"
          }
        }
      ]
    },
    {
      "cell_type": "markdown",
      "source": [
        "Students who specialise in marketing and HR can earn between Rs 2,00,000 and Rs 3,00,000 most likely, and up to a maximum of Rs 4,50,000.\n",
        "Students who pursued marketing and finance got placed with a maximum salary of Rs 9,50,000 and salaries between Rs 3,00,000 and \n",
        "Rs 4,00,000 anyway."
      ],
      "metadata": {
        "id": "UoYeaQU4v1yC"
      }
    },
    {
      "cell_type": "code",
      "source": [
        "plt.scatter(df['hsc_s'], df['salary'])"
      ],
      "metadata": {
        "colab": {
          "base_uri": "https://localhost:8080/",
          "height": 282
        },
        "id": "TAAP7n8SS7OR",
        "outputId": "b9dc2d14-75dc-42a2-d122-f4c5e8835024"
      },
      "execution_count": null,
      "outputs": [
        {
          "output_type": "execute_result",
          "data": {
            "text/plain": [
              "<matplotlib.collections.PathCollection at 0x7f3b5bc70ca0>"
            ]
          },
          "metadata": {},
          "execution_count": 61
        },
        {
          "output_type": "display_data",
          "data": {
            "text/plain": [
              "<Figure size 432x288 with 1 Axes>"
            ],
            "image/png": "[encoded data removed]"
          },
          "metadata": {
            "needs_background": "light"
          }
        }
      ]
    },
    {
      "cell_type": "markdown",
      "source": [
        "Students who studied commerce in high school are more likely to earn between Rs 2,00,000 and Rs 3,00,000 with a maximum of Rs 9,50,000.\n",
        "Students who studied science in higher secondary have an average salary between Rs 2,00,000 and Rs 3,50,000 and a maximum of Rs 7,00,000.\n",
        "Students who studied arts in higher secondary school earn up to a maximum of Rs 3,00,000."
      ],
      "metadata": {
        "id": "t8CORU37v6vp"
      }
    },
    {
      "cell_type": "markdown",
      "source": [
        "To further analyse the data, we divided it into two data frames, one containing data about people who were placed and the other containing data about people who were not placed."
      ],
      "metadata": {
        "id": "WgG8zWnqwpS7"
      }
    },
    {
      "cell_type": "code",
      "source": [
        "df_placed = df[df['status'] == 'Placed']\n",
        "df_notplaced = df[df['status'] != 'Placed']\n",
        "df_placed"
      ],
      "metadata": {
        "colab": {
          "base_uri": "https://localhost:8080/",
          "height": 424
        },
        "id": "EfYGjVNqDEue",
        "outputId": "2dd12ee3-5a14-496c-a1ea-1d318b842505"
      },
      "execution_count": null,
      "outputs": [
        {
          "output_type": "execute_result",
          "data": {
            "text/plain": [
              "     sl_no gender  ssc_p    ssc_b  hsc_p    hsc_b     hsc_s  degree_p  \\\n",
              "0        1      M  67.00   Others  91.00   Others  Commerce     58.00   \n",
              "1        2      M  79.33  Central  78.33   Others   Science     77.48   \n",
              "2        3      M  65.00  Central  68.00  Central      Arts     64.00   \n",
              "4        5      M  85.80  Central  73.60  Central  Commerce     73.30   \n",
              "7        8      M  82.00  Central  64.00  Central   Science     66.00   \n",
              "..     ...    ...    ...      ...    ...      ...       ...       ...   \n",
              "209    210      M  62.00  Central  72.00  Central  Commerce     65.00   \n",
              "210    211      M  80.60   Others  82.00   Others  Commerce     77.60   \n",
              "211    212      M  58.00   Others  60.00   Others   Science     72.00   \n",
              "212    213      M  67.00   Others  67.00   Others  Commerce     73.00   \n",
              "213    214      F  74.00   Others  66.00   Others  Commerce     58.00   \n",
              "\n",
              "      degree_t workex  etest_p specialisation  mba_p  status    salary  \n",
              "0     Sci&Tech     No     55.0         Mkt&HR  58.80  Placed  270000.0  \n",
              "1     Sci&Tech    Yes     86.5        Mkt&Fin  66.28  Placed  200000.0  \n",
              "2    Comm&Mgmt     No     75.0        Mkt&Fin  57.80  Placed  250000.0  \n",
              "4    Comm&Mgmt     No     96.8        Mkt&Fin  55.50  Placed  425000.0  \n",
              "7     Sci&Tech    Yes     67.0        Mkt&Fin  62.14  Placed  252000.0  \n",
              "..         ...    ...      ...            ...    ...     ...       ...  \n",
              "209  Comm&Mgmt     No     67.0        Mkt&Fin  56.49  Placed  216000.0  \n",
              "210  Comm&Mgmt     No     91.0        Mkt&Fin  74.49  Placed  400000.0  \n",
              "211   Sci&Tech     No     74.0        Mkt&Fin  53.62  Placed  275000.0  \n",
              "212  Comm&Mgmt    Yes     59.0        Mkt&Fin  69.72  Placed  295000.0  \n",
              "213  Comm&Mgmt     No     70.0         Mkt&HR  60.23  Placed  204000.0  \n",
              "\n",
              "[148 rows x 15 columns]"
            ],
            "text/html": [
              "\n",
              "  <div id=\"df-d7b8c6ab-46b4-4c9e-b37b-1eae97408eba\">\n",
              "    <div class=\"colab-df-container\">\n",
              "      <div>\n",
              "<style scoped>\n",
              "    .dataframe tbody tr th:only-of-type {\n",
              "        vertical-align: middle;\n",
              "    }\n",
              "\n",
              "    .dataframe tbody tr th {\n",
              "        vertical-align: top;\n",
              "    }\n",
              "\n",
              "    .dataframe thead th {\n",
              "        text-align: right;\n",
              "    }\n",
              "</style>\n",
              "<table border=\"1\" class=\"dataframe\">\n",
              "  <thead>\n",
              "    <tr style=\"text-align: right;\">\n",
              "      <th></th>\n",
              "      <th>sl_no</th>\n",
              "      <th>gender</th>\n",
              "      <th>ssc_p</th>\n",
              "      <th>ssc_b</th>\n",
              "      <th>hsc_p</th>\n",
              "      <th>hsc_b</th>\n",
              "      <th>hsc_s</th>\n",
              "      <th>degree_p</th>\n",
              "      <th>degree_t</th>\n",
              "      <th>workex</th>\n",
              "      <th>etest_p</th>\n",
              "      <th>specialisation</th>\n",
              "      <th>mba_p</th>\n",
              "      <th>status</th>\n",
              "      <th>salary</th>\n",
              "    </tr>\n",
              "  </thead>\n",
              "  <tbody>\n",
              "    <tr>\n",
              "      <th>0</th>\n",
              "      <td>1</td>\n",
              "      <td>M</td>\n",
              "      <td>67.00</td>\n",
              "      <td>Others</td>\n",
              "      <td>91.00</td>\n",
              "      <td>Others</td>\n",
              "      <td>Commerce</td>\n",
              "      <td>58.00</td>\n",
              "      <td>Sci&amp;Tech</td>\n",
              "      <td>No</td>\n",
              "      <td>55.0</td>\n",
              "      <td>Mkt&amp;HR</td>\n",
              "      <td>58.80</td>\n",
              "      <td>Placed</td>\n",
              "      <td>270000.0</td>\n",
              "    </tr>\n",
              "    <tr>\n",
              "      <th>1</th>\n",
              "      <td>2</td>\n",
              "      <td>M</td>\n",
              "      <td>79.33</td>\n",
              "      <td>Central</td>\n",
              "      <td>78.33</td>\n",
              "      <td>Others</td>\n",
              "      <td>Science</td>\n",
              "      <td>77.48</td>\n",
              "      <td>Sci&amp;Tech</td>\n",
              "      <td>Yes</td>\n",
              "      <td>86.5</td>\n",
              "      <td>Mkt&amp;Fin</td>\n",
              "      <td>66.28</td>\n",
              "      <td>Placed</td>\n",
              "      <td>200000.0</td>\n",
              "    </tr>\n",
              "    <tr>\n",
              "      <th>2</th>\n",
              "      <td>3</td>\n",
              "      <td>M</td>\n",
              "      <td>65.00</td>\n",
              "      <td>Central</td>\n",
              "      <td>68.00</td>\n",
              "      <td>Central</td>\n",
              "      <td>Arts</td>\n",
              "      <td>64.00</td>\n",
              "      <td>Comm&amp;Mgmt</td>\n",
              "      <td>No</td>\n",
              "      <td>75.0</td>\n",
              "      <td>Mkt&amp;Fin</td>\n",
              "      <td>57.80</td>\n",
              "      <td>Placed</td>\n",
              "      <td>250000.0</td>\n",
              "    </tr>\n",
              "    <tr>\n",
              "      <th>4</th>\n",
              "      <td>5</td>\n",
              "      <td>M</td>\n",
              "      <td>85.80</td>\n",
              "      <td>Central</td>\n",
              "      <td>73.60</td>\n",
              "      <td>Central</td>\n",
              "      <td>Commerce</td>\n",
              "      <td>73.30</td>\n",
              "      <td>Comm&amp;Mgmt</td>\n",
              "      <td>No</td>\n",
              "      <td>96.8</td>\n",
              "      <td>Mkt&amp;Fin</td>\n",
              "      <td>55.50</td>\n",
              "      <td>Placed</td>\n",
              "      <td>425000.0</td>\n",
              "    </tr>\n",
              "    <tr>\n",
              "      <th>7</th>\n",
              "      <td>8</td>\n",
              "      <td>M</td>\n",
              "      <td>82.00</td>\n",
              "      <td>Central</td>\n",
              "      <td>64.00</td>\n",
              "      <td>Central</td>\n",
              "      <td>Science</td>\n",
              "      <td>66.00</td>\n",
              "      <td>Sci&amp;Tech</td>\n",
              "      <td>Yes</td>\n",
              "      <td>67.0</td>\n",
              "      <td>Mkt&amp;Fin</td>\n",
              "      <td>62.14</td>\n",
              "      <td>Placed</td>\n",
              "      <td>252000.0</td>\n",
              "    </tr>\n",
              "    <tr>\n",
              "      <th>...</th>\n",
              "      <td>...</td>\n",
              "      <td>...</td>\n",
              "      <td>...</td>\n",
              "      <td>...</td>\n",
              "      <td>...</td>\n",
              "      <td>...</td>\n",
              "      <td>...</td>\n",
              "      <td>...</td>\n",
              "      <td>...</td>\n",
              "      <td>...</td>\n",
              "      <td>...</td>\n",
              "      <td>...</td>\n",
              "      <td>...</td>\n",
              "      <td>...</td>\n",
              "      <td>...</td>\n",
              "    </tr>\n",
              "    <tr>\n",
              "      <th>209</th>\n",
              "      <td>210</td>\n",
              "      <td>M</td>\n",
              "      <td>62.00</td>\n",
              "      <td>Central</td>\n",
              "      <td>72.00</td>\n",
              "      <td>Central</td>\n",
              "      <td>Commerce</td>\n",
              "      <td>65.00</td>\n",
              "      <td>Comm&amp;Mgmt</td>\n",
              "      <td>No</td>\n",
              "      <td>67.0</td>\n",
              "      <td>Mkt&amp;Fin</td>\n",
              "      <td>56.49</td>\n",
              "      <td>Placed</td>\n",
              "      <td>216000.0</td>\n",
              "    </tr>\n",
              "    <tr>\n",
              "      <th>210</th>\n",
              "      <td>211</td>\n",
              "      <td>M</td>\n",
              "      <td>80.60</td>\n",
              "      <td>Others</td>\n",
              "      <td>82.00</td>\n",
              "      <td>Others</td>\n",
              "      <td>Commerce</td>\n",
              "      <td>77.60</td>\n",
              "      <td>Comm&amp;Mgmt</td>\n",
              "      <td>No</td>\n",
              "      <td>91.0</td>\n",
              "      <td>Mkt&amp;Fin</td>\n",
              "      <td>74.49</td>\n",
              "      <td>Placed</td>\n",
              "      <td>400000.0</td>\n",
              "    </tr>\n",
              "    <tr>\n",
              "      <th>211</th>\n",
              "      <td>212</td>\n",
              "      <td>M</td>\n",
              "      <td>58.00</td>\n",
              "      <td>Others</td>\n",
              "      <td>60.00</td>\n",
              "      <td>Others</td>\n",
              "      <td>Science</td>\n",
              "      <td>72.00</td>\n",
              "      <td>Sci&amp;Tech</td>\n",
              "      <td>No</td>\n",
              "      <td>74.0</td>\n",
              "      <td>Mkt&amp;Fin</td>\n",
              "      <td>53.62</td>\n",
              "      <td>Placed</td>\n",
              "      <td>275000.0</td>\n",
              "    </tr>\n",
              "    <tr>\n",
              "      <th>212</th>\n",
              "      <td>213</td>\n",
              "      <td>M</td>\n",
              "      <td>67.00</td>\n",
              "      <td>Others</td>\n",
              "      <td>67.00</td>\n",
              "      <td>Others</td>\n",
              "      <td>Commerce</td>\n",
              "      <td>73.00</td>\n",
              "      <td>Comm&amp;Mgmt</td>\n",
              "      <td>Yes</td>\n",
              "      <td>59.0</td>\n",
              "      <td>Mkt&amp;Fin</td>\n",
              "      <td>69.72</td>\n",
              "      <td>Placed</td>\n",
              "      <td>295000.0</td>\n",
              "    </tr>\n",
              "    <tr>\n",
              "      <th>213</th>\n",
              "      <td>214</td>\n",
              "      <td>F</td>\n",
              "      <td>74.00</td>\n",
              "      <td>Others</td>\n",
              "      <td>66.00</td>\n",
              "      <td>Others</td>\n",
              "      <td>Commerce</td>\n",
              "      <td>58.00</td>\n",
              "      <td>Comm&amp;Mgmt</td>\n",
              "      <td>No</td>\n",
              "      <td>70.0</td>\n",
              "      <td>Mkt&amp;HR</td>\n",
              "      <td>60.23</td>\n",
              "      <td>Placed</td>\n",
              "      <td>204000.0</td>\n",
              "    </tr>\n",
              "  </tbody>\n",
              "</table>\n",
              "<p>148 rows × 15 columns</p>\n",
              "</div>\n",
              "      <button class=\"colab-df-convert\" onclick=\"convertToInteractive('df-d7b8c6ab-46b4-4c9e-b37b-1eae97408eba')\"\n",
              "              title=\"Convert this dataframe to an interactive table.\"\n",
              "              style=\"display:none;\">\n",
              "        \n",
              "  <svg xmlns=\"http://www.w3.org/2000/svg\" height=\"24px\"viewBox=\"0 0 24 24\"\n",
              "       width=\"24px\">\n",
              "    <path d=\"M0 0h24v24H0V0z\" fill=\"none\"/>\n",
              "    <path d=\"M18.56 5.44l.94 2.06.94-2.06 2.06-.94-2.06-.94-.94-2.06-.94 2.06-2.06.94zm-11 1L8.5 8.5l.94-2.06 2.06-.94-2.06-.94L8.5 2.5l-.94 2.06-2.06.94zm10 10l.94 2.06.94-2.06 2.06-.94-2.06-.94-.94-2.06-.94 2.06-2.06.94z\"/><path d=\"M17.41 7.96l-1.37-1.37c-.4-.4-.92-.59-1.43-.59-.52 0-1.04.2-1.43.59L10.3 9.45l-7.72 7.72c-.78.78-.78 2.05 0 2.83L4 21.41c.39.39.9.59 1.41.59.51 0 1.02-.2 1.41-.59l7.78-7.78 2.81-2.81c.8-.78.8-2.07 0-2.86zM5.41 20L4 18.59l7.72-7.72 1.47 1.35L5.41 20z\"/>\n",
              "  </svg>\n",
              "      </button>\n",
              "      \n",
              "  <style>\n",
              "    .colab-df-container {\n",
              "      display:flex;\n",
              "      flex-wrap:wrap;\n",
              "      gap: 12px;\n",
              "    }\n",
              "\n",
              "    .colab-df-convert {\n",
              "      background-color: #E8F0FE;\n",
              "      border: none;\n",
              "      border-radius: 50%;\n",
              "      cursor: pointer;\n",
              "      display: none;\n",
              "      fill: #1967D2;\n",
              "      height: 32px;\n",
              "      padding: 0 0 0 0;\n",
              "      width: 32px;\n",
              "    }\n",
              "\n",
              "    .colab-df-convert:hover {\n",
              "      background-color: #E2EBFA;\n",
              "      box-shadow: 0px 1px 2px rgba(60, 64, 67, 0.3), 0px 1px 3px 1px rgba(60, 64, 67, 0.15);\n",
              "      fill: #174EA6;\n",
              "    }\n",
              "\n",
              "    [theme=dark] .colab-df-convert {\n",
              "      background-color: #3B4455;\n",
              "      fill: #D2E3FC;\n",
              "    }\n",
              "\n",
              "    [theme=dark] .colab-df-convert:hover {\n",
              "      background-color: #434B5C;\n",
              "      box-shadow: 0px 1px 3px 1px rgba(0, 0, 0, 0.15);\n",
              "      filter: drop-shadow(0px 1px 2px rgba(0, 0, 0, 0.3));\n",
              "      fill: #FFFFFF;\n",
              "    }\n",
              "  </style>\n",
              "\n",
              "      <script>\n",
              "        const buttonEl =\n",
              "          document.querySelector('#df-d7b8c6ab-46b4-4c9e-b37b-1eae97408eba button.colab-df-convert');\n",
              "        buttonEl.style.display =\n",
              "          google.colab.kernel.accessAllowed ? 'block' : 'none';\n",
              "\n",
              "        async function convertToInteractive(key) {\n",
              "          const element = document.querySelector('#df-d7b8c6ab-46b4-4c9e-b37b-1eae97408eba');\n",
              "          const dataTable =\n",
              "            await google.colab.kernel.invokeFunction('convertToInteractive',\n",
              "                                                     [key], {});\n",
              "          if (!dataTable) return;\n",
              "\n",
              "          const docLinkHtml = 'Like what you see? Visit the ' +\n",
              "            '<a target=\"_blank\" href=https://colab.research.google.com/notebooks/data_table.ipynb>data table notebook</a>'\n",
              "            + ' to learn more about interactive tables.';\n",
              "          element.innerHTML = '';\n",
              "          dataTable['output_type'] = 'display_data';\n",
              "          await google.colab.output.renderOutput(dataTable, element);\n",
              "          const docLink = document.createElement('div');\n",
              "          docLink.innerHTML = docLinkHtml;\n",
              "          element.appendChild(docLink);\n",
              "        }\n",
              "      </script>\n",
              "    </div>\n",
              "  </div>\n",
              "  "
            ]
          },
          "metadata": {},
          "execution_count": 5
        }
      ]
    },
    {
      "cell_type": "code",
      "source": [
        "df_notplaced"
      ],
      "metadata": {
        "colab": {
          "base_uri": "https://localhost:8080/",
          "height": 424
        },
        "id": "kx-k0ne0FOo7",
        "outputId": "a5ee758e-8fee-4da9-bd85-4916f23b571b"
      },
      "execution_count": null,
      "outputs": [
        {
          "output_type": "execute_result",
          "data": {
            "text/plain": [
              "     sl_no gender  ssc_p    ssc_b  hsc_p    hsc_b     hsc_s  degree_p  \\\n",
              "3        4      M   56.0  Central   52.0  Central   Science     52.00   \n",
              "5        6      M   55.0   Others   49.8   Others   Science     67.25   \n",
              "6        7      F   46.0   Others   49.2   Others  Commerce     79.00   \n",
              "9       10      M   58.0  Central   70.0  Central  Commerce     61.00   \n",
              "12      13      F   47.0  Central   55.0   Others   Science     65.00   \n",
              "..     ...    ...    ...      ...    ...      ...       ...       ...   \n",
              "198    199      F   67.0  Central   70.0  Central  Commerce     65.00   \n",
              "201    202      M   54.2  Central   63.0   Others   Science     58.00   \n",
              "206    207      M   41.0  Central   42.0  Central   Science     60.00   \n",
              "208    209      F   43.0  Central   60.0   Others   Science     65.00   \n",
              "214    215      M   62.0  Central   58.0   Others   Science     53.00   \n",
              "\n",
              "      degree_t workex  etest_p specialisation  mba_p      status  salary  \n",
              "3     Sci&Tech     No    66.00         Mkt&HR  59.43  Not Placed     NaN  \n",
              "5     Sci&Tech    Yes    55.00        Mkt&Fin  51.58  Not Placed     NaN  \n",
              "6    Comm&Mgmt     No    74.28        Mkt&Fin  53.29  Not Placed     NaN  \n",
              "9    Comm&Mgmt     No    54.00        Mkt&Fin  52.21  Not Placed     NaN  \n",
              "12   Comm&Mgmt     No    62.00         Mkt&HR  65.04  Not Placed     NaN  \n",
              "..         ...    ...      ...            ...    ...         ...     ...  \n",
              "198     Others     No    88.00         Mkt&HR  71.96  Not Placed     NaN  \n",
              "201  Comm&Mgmt     No    79.00         Mkt&HR  58.44  Not Placed     NaN  \n",
              "206  Comm&Mgmt     No    97.00        Mkt&Fin  53.39  Not Placed     NaN  \n",
              "208  Comm&Mgmt     No    92.66         Mkt&HR  62.92  Not Placed     NaN  \n",
              "214  Comm&Mgmt     No    89.00         Mkt&HR  60.22  Not Placed     NaN  \n",
              "\n",
              "[67 rows x 15 columns]"
            ],
            "text/html": [
              "\n",
              "  <div id=\"df-d0096b3b-6737-45bb-83b4-d3372fc61a3f\">\n",
              "    <div class=\"colab-df-container\">\n",
              "      <div>\n",
              "<style scoped>\n",
              "    .dataframe tbody tr th:only-of-type {\n",
              "        vertical-align: middle;\n",
              "    }\n",
              "\n",
              "    .dataframe tbody tr th {\n",
              "        vertical-align: top;\n",
              "    }\n",
              "\n",
              "    .dataframe thead th {\n",
              "        text-align: right;\n",
              "    }\n",
              "</style>\n",
              "<table border=\"1\" class=\"dataframe\">\n",
              "  <thead>\n",
              "    <tr style=\"text-align: right;\">\n",
              "      <th></th>\n",
              "      <th>sl_no</th>\n",
              "      <th>gender</th>\n",
              "      <th>ssc_p</th>\n",
              "      <th>ssc_b</th>\n",
              "      <th>hsc_p</th>\n",
              "      <th>hsc_b</th>\n",
              "      <th>hsc_s</th>\n",
              "      <th>degree_p</th>\n",
              "      <th>degree_t</th>\n",
              "      <th>workex</th>\n",
              "      <th>etest_p</th>\n",
              "      <th>specialisation</th>\n",
              "      <th>mba_p</th>\n",
              "      <th>status</th>\n",
              "      <th>salary</th>\n",
              "    </tr>\n",
              "  </thead>\n",
              "  <tbody>\n",
              "    <tr>\n",
              "      <th>3</th>\n",
              "      <td>4</td>\n",
              "      <td>M</td>\n",
              "      <td>56.0</td>\n",
              "      <td>Central</td>\n",
              "      <td>52.0</td>\n",
              "      <td>Central</td>\n",
              "      <td>Science</td>\n",
              "      <td>52.00</td>\n",
              "      <td>Sci&amp;Tech</td>\n",
              "      <td>No</td>\n",
              "      <td>66.00</td>\n",
              "      <td>Mkt&amp;HR</td>\n",
              "      <td>59.43</td>\n",
              "      <td>Not Placed</td>\n",
              "      <td>NaN</td>\n",
              "    </tr>\n",
              "    <tr>\n",
              "      <th>5</th>\n",
              "      <td>6</td>\n",
              "      <td>M</td>\n",
              "      <td>55.0</td>\n",
              "      <td>Others</td>\n",
              "      <td>49.8</td>\n",
              "      <td>Others</td>\n",
              "      <td>Science</td>\n",
              "      <td>67.25</td>\n",
              "      <td>Sci&amp;Tech</td>\n",
              "      <td>Yes</td>\n",
              "      <td>55.00</td>\n",
              "      <td>Mkt&amp;Fin</td>\n",
              "      <td>51.58</td>\n",
              "      <td>Not Placed</td>\n",
              "      <td>NaN</td>\n",
              "    </tr>\n",
              "    <tr>\n",
              "      <th>6</th>\n",
              "      <td>7</td>\n",
              "      <td>F</td>\n",
              "      <td>46.0</td>\n",
              "      <td>Others</td>\n",
              "      <td>49.2</td>\n",
              "      <td>Others</td>\n",
              "      <td>Commerce</td>\n",
              "      <td>79.00</td>\n",
              "      <td>Comm&amp;Mgmt</td>\n",
              "      <td>No</td>\n",
              "      <td>74.28</td>\n",
              "      <td>Mkt&amp;Fin</td>\n",
              "      <td>53.29</td>\n",
              "      <td>Not Placed</td>\n",
              "      <td>NaN</td>\n",
              "    </tr>\n",
              "    <tr>\n",
              "      <th>9</th>\n",
              "      <td>10</td>\n",
              "      <td>M</td>\n",
              "      <td>58.0</td>\n",
              "      <td>Central</td>\n",
              "      <td>70.0</td>\n",
              "      <td>Central</td>\n",
              "      <td>Commerce</td>\n",
              "      <td>61.00</td>\n",
              "      <td>Comm&amp;Mgmt</td>\n",
              "      <td>No</td>\n",
              "      <td>54.00</td>\n",
              "      <td>Mkt&amp;Fin</td>\n",
              "      <td>52.21</td>\n",
              "      <td>Not Placed</td>\n",
              "      <td>NaN</td>\n",
              "    </tr>\n",
              "    <tr>\n",
              "      <th>12</th>\n",
              "      <td>13</td>\n",
              "      <td>F</td>\n",
              "      <td>47.0</td>\n",
              "      <td>Central</td>\n",
              "      <td>55.0</td>\n",
              "      <td>Others</td>\n",
              "      <td>Science</td>\n",
              "      <td>65.00</td>\n",
              "      <td>Comm&amp;Mgmt</td>\n",
              "      <td>No</td>\n",
              "      <td>62.00</td>\n",
              "      <td>Mkt&amp;HR</td>\n",
              "      <td>65.04</td>\n",
              "      <td>Not Placed</td>\n",
              "      <td>NaN</td>\n",
              "    </tr>\n",
              "    <tr>\n",
              "      <th>...</th>\n",
              "      <td>...</td>\n",
              "      <td>...</td>\n",
              "      <td>...</td>\n",
              "      <td>...</td>\n",
              "      <td>...</td>\n",
              "      <td>...</td>\n",
              "      <td>...</td>\n",
              "      <td>...</td>\n",
              "      <td>...</td>\n",
              "      <td>...</td>\n",
              "      <td>...</td>\n",
              "      <td>...</td>\n",
              "      <td>...</td>\n",
              "      <td>...</td>\n",
              "      <td>...</td>\n",
              "    </tr>\n",
              "    <tr>\n",
              "      <th>198</th>\n",
              "      <td>199</td>\n",
              "      <td>F</td>\n",
              "      <td>67.0</td>\n",
              "      <td>Central</td>\n",
              "      <td>70.0</td>\n",
              "      <td>Central</td>\n",
              "      <td>Commerce</td>\n",
              "      <td>65.00</td>\n",
              "      <td>Others</td>\n",
              "      <td>No</td>\n",
              "      <td>88.00</td>\n",
              "      <td>Mkt&amp;HR</td>\n",
              "      <td>71.96</td>\n",
              "      <td>Not Placed</td>\n",
              "      <td>NaN</td>\n",
              "    </tr>\n",
              "    <tr>\n",
              "      <th>201</th>\n",
              "      <td>202</td>\n",
              "      <td>M</td>\n",
              "      <td>54.2</td>\n",
              "      <td>Central</td>\n",
              "      <td>63.0</td>\n",
              "      <td>Others</td>\n",
              "      <td>Science</td>\n",
              "      <td>58.00</td>\n",
              "      <td>Comm&amp;Mgmt</td>\n",
              "      <td>No</td>\n",
              "      <td>79.00</td>\n",
              "      <td>Mkt&amp;HR</td>\n",
              "      <td>58.44</td>\n",
              "      <td>Not Placed</td>\n",
              "      <td>NaN</td>\n",
              "    </tr>\n",
              "    <tr>\n",
              "      <th>206</th>\n",
              "      <td>207</td>\n",
              "      <td>M</td>\n",
              "      <td>41.0</td>\n",
              "      <td>Central</td>\n",
              "      <td>42.0</td>\n",
              "      <td>Central</td>\n",
              "      <td>Science</td>\n",
              "      <td>60.00</td>\n",
              "      <td>Comm&amp;Mgmt</td>\n",
              "      <td>No</td>\n",
              "      <td>97.00</td>\n",
              "      <td>Mkt&amp;Fin</td>\n",
              "      <td>53.39</td>\n",
              "      <td>Not Placed</td>\n",
              "      <td>NaN</td>\n",
              "    </tr>\n",
              "    <tr>\n",
              "      <th>208</th>\n",
              "      <td>209</td>\n",
              "      <td>F</td>\n",
              "      <td>43.0</td>\n",
              "      <td>Central</td>\n",
              "      <td>60.0</td>\n",
              "      <td>Others</td>\n",
              "      <td>Science</td>\n",
              "      <td>65.00</td>\n",
              "      <td>Comm&amp;Mgmt</td>\n",
              "      <td>No</td>\n",
              "      <td>92.66</td>\n",
              "      <td>Mkt&amp;HR</td>\n",
              "      <td>62.92</td>\n",
              "      <td>Not Placed</td>\n",
              "      <td>NaN</td>\n",
              "    </tr>\n",
              "    <tr>\n",
              "      <th>214</th>\n",
              "      <td>215</td>\n",
              "      <td>M</td>\n",
              "      <td>62.0</td>\n",
              "      <td>Central</td>\n",
              "      <td>58.0</td>\n",
              "      <td>Others</td>\n",
              "      <td>Science</td>\n",
              "      <td>53.00</td>\n",
              "      <td>Comm&amp;Mgmt</td>\n",
              "      <td>No</td>\n",
              "      <td>89.00</td>\n",
              "      <td>Mkt&amp;HR</td>\n",
              "      <td>60.22</td>\n",
              "      <td>Not Placed</td>\n",
              "      <td>NaN</td>\n",
              "    </tr>\n",
              "  </tbody>\n",
              "</table>\n",
              "<p>67 rows × 15 columns</p>\n",
              "</div>\n",
              "      <button class=\"colab-df-convert\" onclick=\"convertToInteractive('df-d0096b3b-6737-45bb-83b4-d3372fc61a3f')\"\n",
              "              title=\"Convert this dataframe to an interactive table.\"\n",
              "              style=\"display:none;\">\n",
              "        \n",
              "  <svg xmlns=\"http://www.w3.org/2000/svg\" height=\"24px\"viewBox=\"0 0 24 24\"\n",
              "       width=\"24px\">\n",
              "    <path d=\"M0 0h24v24H0V0z\" fill=\"none\"/>\n",
              "    <path d=\"M18.56 5.44l.94 2.06.94-2.06 2.06-.94-2.06-.94-.94-2.06-.94 2.06-2.06.94zm-11 1L8.5 8.5l.94-2.06 2.06-.94-2.06-.94L8.5 2.5l-.94 2.06-2.06.94zm10 10l.94 2.06.94-2.06 2.06-.94-2.06-.94-.94-2.06-.94 2.06-2.06.94z\"/><path d=\"M17.41 7.96l-1.37-1.37c-.4-.4-.92-.59-1.43-.59-.52 0-1.04.2-1.43.59L10.3 9.45l-7.72 7.72c-.78.78-.78 2.05 0 2.83L4 21.41c.39.39.9.59 1.41.59.51 0 1.02-.2 1.41-.59l7.78-7.78 2.81-2.81c.8-.78.8-2.07 0-2.86zM5.41 20L4 18.59l7.72-7.72 1.47 1.35L5.41 20z\"/>\n",
              "  </svg>\n",
              "      </button>\n",
              "      \n",
              "  <style>\n",
              "    .colab-df-container {\n",
              "      display:flex;\n",
              "      flex-wrap:wrap;\n",
              "      gap: 12px;\n",
              "    }\n",
              "\n",
              "    .colab-df-convert {\n",
              "      background-color: #E8F0FE;\n",
              "      border: none;\n",
              "      border-radius: 50%;\n",
              "      cursor: pointer;\n",
              "      display: none;\n",
              "      fill: #1967D2;\n",
              "      height: 32px;\n",
              "      padding: 0 0 0 0;\n",
              "      width: 32px;\n",
              "    }\n",
              "\n",
              "    .colab-df-convert:hover {\n",
              "      background-color: #E2EBFA;\n",
              "      box-shadow: 0px 1px 2px rgba(60, 64, 67, 0.3), 0px 1px 3px 1px rgba(60, 64, 67, 0.15);\n",
              "      fill: #174EA6;\n",
              "    }\n",
              "\n",
              "    [theme=dark] .colab-df-convert {\n",
              "      background-color: #3B4455;\n",
              "      fill: #D2E3FC;\n",
              "    }\n",
              "\n",
              "    [theme=dark] .colab-df-convert:hover {\n",
              "      background-color: #434B5C;\n",
              "      box-shadow: 0px 1px 3px 1px rgba(0, 0, 0, 0.15);\n",
              "      filter: drop-shadow(0px 1px 2px rgba(0, 0, 0, 0.3));\n",
              "      fill: #FFFFFF;\n",
              "    }\n",
              "  </style>\n",
              "\n",
              "      <script>\n",
              "        const buttonEl =\n",
              "          document.querySelector('#df-d0096b3b-6737-45bb-83b4-d3372fc61a3f button.colab-df-convert');\n",
              "        buttonEl.style.display =\n",
              "          google.colab.kernel.accessAllowed ? 'block' : 'none';\n",
              "\n",
              "        async function convertToInteractive(key) {\n",
              "          const element = document.querySelector('#df-d0096b3b-6737-45bb-83b4-d3372fc61a3f');\n",
              "          const dataTable =\n",
              "            await google.colab.kernel.invokeFunction('convertToInteractive',\n",
              "                                                     [key], {});\n",
              "          if (!dataTable) return;\n",
              "\n",
              "          const docLinkHtml = 'Like what you see? Visit the ' +\n",
              "            '<a target=\"_blank\" href=https://colab.research.google.com/notebooks/data_table.ipynb>data table notebook</a>'\n",
              "            + ' to learn more about interactive tables.';\n",
              "          element.innerHTML = '';\n",
              "          dataTable['output_type'] = 'display_data';\n",
              "          await google.colab.output.renderOutput(dataTable, element);\n",
              "          const docLink = document.createElement('div');\n",
              "          docLink.innerHTML = docLinkHtml;\n",
              "          element.appendChild(docLink);\n",
              "        }\n",
              "      </script>\n",
              "    </div>\n",
              "  </div>\n",
              "  "
            ]
          },
          "metadata": {},
          "execution_count": 6
        }
      ]
    },
    {
      "cell_type": "code",
      "source": [
        "plt.hist(df_placed['etest_p'],color='green')\n",
        "plt.hist(df_notplaced['etest_p'],color='red')"
      ],
      "metadata": {
        "colab": {
          "base_uri": "https://localhost:8080/",
          "height": 317
        },
        "id": "vuLkn2PoZiJw",
        "outputId": "5f468935-c68d-4294-9e2e-525a9139f4b4"
      },
      "execution_count": null,
      "outputs": [
        {
          "output_type": "execute_result",
          "data": {
            "text/plain": [
              "(array([ 4., 10., 13., 11.,  4., 10.,  4.,  4.,  3.,  4.]),\n",
              " array([50. , 54.7, 59.4, 64.1, 68.8, 73.5, 78.2, 82.9, 87.6, 92.3, 97. ]),\n",
              " <BarContainer object of 10 artists>)"
            ]
          },
          "metadata": {},
          "execution_count": 7
        },
        {
          "output_type": "display_data",
          "data": {
            "text/plain": [
              "<Figure size 432x288 with 1 Axes>"
            ],
            "image/png": "[encoded data removed]"
          },
          "metadata": {
            "needs_background": "light"
          }
        }
      ]
    },
    {
      "cell_type": "markdown",
      "source": [
        "The employability test scores appear to have a normal distribution in both dataframes where people were placed and where they were not placed.It once again demonstrated that the results of aptitude tests have nothing to do with job placement."
      ],
      "metadata": {
        "id": "ZlR7aHcmxT2i"
      }
    },
    {
      "cell_type": "code",
      "source": [
        "plt.hist(df_placed['ssc_p'],color='green')\n",
        "plt.hist(df_notplaced['ssc_p'],color='red')"
      ],
      "metadata": {
        "colab": {
          "base_uri": "https://localhost:8080/",
          "height": 334
        },
        "id": "wZjvMJyBaABd",
        "outputId": "ba04d300-6645-462c-f80e-b1b21019ed08"
      },
      "execution_count": null,
      "outputs": [
        {
          "output_type": "execute_result",
          "data": {
            "text/plain": [
              "(array([ 4.,  5.,  5., 18.,  6., 14.,  4.,  6.,  3.,  2.]),\n",
              " array([40.89 , 44.581, 48.272, 51.963, 55.654, 59.345, 63.036, 66.727,\n",
              "        70.418, 74.109, 77.8  ]),\n",
              " <BarContainer object of 10 artists>)"
            ]
          },
          "metadata": {},
          "execution_count": 81
        },
        {
          "output_type": "display_data",
          "data": {
            "text/plain": [
              "<Figure size 432x288 with 1 Axes>"
            ],
            "image/png": "[encoded data removed]"
          },
          "metadata": {
            "needs_background": "light"
          }
        }
      ]
    },
    {
      "cell_type": "markdown",
      "source": [
        "People who are placed tend to have a GPA above 60% in secondary school education."
      ],
      "metadata": {
        "id": "uk07PdS8xqce"
      }
    },
    {
      "cell_type": "code",
      "source": [
        "plt.hist(df_placed['degree_p'],color='green')\n",
        "plt.hist(df_notplaced['degree_p'],color='red')"
      ],
      "metadata": {
        "colab": {
          "base_uri": "https://localhost:8080/",
          "height": 317
        },
        "id": "JESumqfAafvI",
        "outputId": "9bfbebcd-7f24-411a-ab13-4b8eb3a74e49"
      },
      "execution_count": null,
      "outputs": [
        {
          "output_type": "execute_result",
          "data": {
            "text/plain": [
              "(array([ 6.,  7., 12., 15.,  8., 12.,  1.,  2.,  2.,  2.]),\n",
              " array([50. , 52.9, 55.8, 58.7, 61.6, 64.5, 67.4, 70.3, 73.2, 76.1, 79. ]),\n",
              " <BarContainer object of 10 artists>)"
            ]
          },
          "metadata": {},
          "execution_count": 83
        },
        {
          "output_type": "display_data",
          "data": {
            "text/plain": [
              "<Figure size 432x288 with 1 Axes>"
            ],
            "image/png": "[encoded data removed]"
          },
          "metadata": {
            "needs_background": "light"
          }
        }
      ]
    },
    {
      "cell_type": "markdown",
      "source": [
        "People who are placed typically have a degree education with a GPA of at least 65 %."
      ],
      "metadata": {
        "id": "TZj6eUmwyhet"
      }
    },
    {
      "cell_type": "code",
      "source": [
        "plt.hist(df_placed['mba_p'],color='green')\n",
        "plt.hist(df_notplaced['mba_p'],color='red')"
      ],
      "metadata": {
        "colab": {
          "base_uri": "https://localhost:8080/",
          "height": 335
        },
        "id": "7hPCBPf8crrh",
        "outputId": "ae465b24-85f5-40ee-b5ca-b33abcb9907b"
      },
      "execution_count": null,
      "outputs": [
        {
          "output_type": "execute_result",
          "data": {
            "text/plain": [
              "(array([ 7.,  4.,  8., 15., 10.,  9.,  6.,  3.,  3.,  2.]),\n",
              " array([51.21, 53.66, 56.11, 58.56, 61.01, 63.46, 65.91, 68.36, 70.81,\n",
              "        73.26, 75.71]),\n",
              " <BarContainer object of 10 artists>)"
            ]
          },
          "metadata": {},
          "execution_count": 84
        },
        {
          "output_type": "display_data",
          "data": {
            "text/plain": [
              "<Figure size 432x288 with 1 Axes>"
            ],
            "image/png": "[encoded data removed]"
          },
          "metadata": {
            "needs_background": "light"
          }
        }
      ]
    },
    {
      "cell_type": "markdown",
      "source": [
        "Placed individuals appear to have a score of 55% or higher in their MBA education."
      ],
      "metadata": {
        "id": "kUM8JSa_ywTV"
      }
    },
    {
      "cell_type": "code",
      "source": [
        "plt.hist(df_placed['hsc_p'],color='green')\n",
        "plt.hist(df_notplaced['hsc_p'],color='red')"
      ],
      "metadata": {
        "colab": {
          "base_uri": "https://localhost:8080/",
          "height": 317
        },
        "id": "fgGJSR3hekHl",
        "outputId": "5d75a148-00e8-4216-a580-98a43c32415d"
      },
      "execution_count": null,
      "outputs": [
        {
          "output_type": "execute_result",
          "data": {
            "text/plain": [
              "(array([ 3.,  4.,  9.,  9.,  7., 14., 12.,  5.,  1.,  3.]),\n",
              " array([37. , 41.5, 46. , 50.5, 55. , 59.5, 64. , 68.5, 73. , 77.5, 82. ]),\n",
              " <BarContainer object of 10 artists>)"
            ]
          },
          "metadata": {},
          "execution_count": 86
        },
        {
          "output_type": "display_data",
          "data": {
            "text/plain": [
              "<Figure size 432x288 with 1 Axes>"
            ],
            "image/png": "[encoded data removed]"
          },
          "metadata": {
            "needs_background": "light"
          }
        }
      ]
    },
    {
      "cell_type": "markdown",
      "source": [
        "It also seems most likely that people in this position have a score of 55% and above in higher secondary education."
      ],
      "metadata": {
        "id": "9MoXuEekzIAU"
      }
    },
    {
      "cell_type": "code",
      "source": [
        "plt.hist(df_placed['specialisation'],color='green')\n",
        "plt.hist(df_notplaced['specialisation'],color='red')"
      ],
      "metadata": {
        "colab": {
          "base_uri": "https://localhost:8080/",
          "height": 317
        },
        "id": "ZO3b3M2Qfa8e",
        "outputId": "2bb4e5dc-51b6-457c-c947-2db097f1a2f7"
      },
      "execution_count": null,
      "outputs": [
        {
          "output_type": "execute_result",
          "data": {
            "text/plain": [
              "(array([42.,  0.,  0.,  0.,  0.,  0.,  0.,  0.,  0., 25.]),\n",
              " array([0. , 0.1, 0.2, 0.3, 0.4, 0.5, 0.6, 0.7, 0.8, 0.9, 1. ]),\n",
              " <BarContainer object of 10 artists>)"
            ]
          },
          "metadata": {},
          "execution_count": 88
        },
        {
          "output_type": "display_data",
          "data": {
            "text/plain": [
              "<Figure size 432x288 with 1 Axes>"
            ],
            "image/png": "[encoded data removed]"
          },
          "metadata": {
            "needs_background": "light"
          }
        }
      ]
    },
    {
      "cell_type": "markdown",
      "source": [
        "You are more likely to get placed if you have a specialty in marketing or finance and are less unemployable. While in the specialties of marketing and HR, your chances of getting employed and not getting employed are almost the same."
      ],
      "metadata": {
        "id": "hDwkBJC_zSYp"
      }
    },
    {
      "cell_type": "code",
      "source": [
        "plt.hist(df_placed['degree_t'],color='green')\n",
        "plt.hist(df_notplaced['degree_t'],color='red')"
      ],
      "metadata": {
        "colab": {
          "base_uri": "https://localhost:8080/",
          "height": 317
        },
        "id": "aT3qt09Ofvy1",
        "outputId": "45205630-bb45-4094-f1db-d2160473e9ad"
      },
      "execution_count": null,
      "outputs": [
        {
          "output_type": "execute_result",
          "data": {
            "text/plain": [
              "(array([18.,  0.,  0.,  0.,  0., 43.,  0.,  0.,  0.,  6.]),\n",
              " array([0. , 0.2, 0.4, 0.6, 0.8, 1. , 1.2, 1.4, 1.6, 1.8, 2. ]),\n",
              " <BarContainer object of 10 artists>)"
            ]
          },
          "metadata": {},
          "execution_count": 89
        },
        {
          "output_type": "display_data",
          "data": {
            "text/plain": [
              "<Figure size 432x288 with 1 Axes>"
            ],
            "image/png": "[encoded data removed]"
          },
          "metadata": {
            "needs_background": "light"
          }
        }
      ]
    },
    {
      "cell_type": "markdown",
      "source": [
        "Students with a degree in commerce and management have a higher chance of being placed, while students with a degree in science and technology have a lower chance, and students with any other degree have a very high chance (0.94) of not being placed."
      ],
      "metadata": {
        "id": "T_Izx3w00HP2"
      }
    },
    {
      "cell_type": "code",
      "source": [
        "plt.hist(df_placed['hsc_s'],color='green')\n",
        "plt.hist(df_notplaced['hsc_s'],color='red')"
      ],
      "metadata": {
        "colab": {
          "base_uri": "https://localhost:8080/",
          "height": 317
        },
        "id": "GvNV18L1gZPH",
        "outputId": "7462f512-7d49-40cc-ff8a-4ba47bbae91e"
      },
      "execution_count": null,
      "outputs": [
        {
          "output_type": "execute_result",
          "data": {
            "text/plain": [
              "(array([34.,  0.,  0.,  0.,  0., 28.,  0.,  0.,  0.,  5.]),\n",
              " array([0. , 0.2, 0.4, 0.6, 0.8, 1. , 1.2, 1.4, 1.6, 1.8, 2. ]),\n",
              " <BarContainer object of 10 artists>)"
            ]
          },
          "metadata": {},
          "execution_count": 91
        },
        {
          "output_type": "display_data",
          "data": {
            "text/plain": [
              "<Figure size 432x288 with 1 Axes>"
            ],
            "image/png": "[encoded data removed]"
          },
          "metadata": {
            "needs_background": "light"
          }
        }
      ]
    },
    {
      "cell_type": "markdown",
      "source": [
        "Students who come up from Commerce as a category in higher secondary education have a higher probability of getting placed, while science and technology have a lower but nearly equal probability, and any other category has a very high probability (0.86) of not getting placed."
      ],
      "metadata": {
        "id": "vIQEO8BV029S"
      }
    },
    {
      "cell_type": "code",
      "source": [
        "plt.hist(df_placed['workex'],color='green')\n",
        "plt.hist(df_notplaced['workex'],color='red')"
      ],
      "metadata": {
        "colab": {
          "base_uri": "https://localhost:8080/",
          "height": 317
        },
        "id": "4AZju8Eeg5lS",
        "outputId": "feb6a3d0-828f-4f72-cd2a-238e49c5e3a1"
      },
      "execution_count": null,
      "outputs": [
        {
          "output_type": "execute_result",
          "data": {
            "text/plain": [
              "(array([57.,  0.,  0.,  0.,  0.,  0.,  0.,  0.,  0., 10.]),\n",
              " array([0. , 0.1, 0.2, 0.3, 0.4, 0.5, 0.6, 0.7, 0.8, 0.9, 1. ]),\n",
              " <BarContainer object of 10 artists>)"
            ]
          },
          "metadata": {},
          "execution_count": 93
        },
        {
          "output_type": "display_data",
          "data": {
            "text/plain": [
              "<Figure size 432x288 with 1 Axes>"
            ],
            "image/png": "[encoded data removed]"
          },
          "metadata": {
            "needs_background": "light"
          }
        }
      ]
    },
    {
      "cell_type": "markdown",
      "source": [
        "If you have work experience, you have 96% chances of being hired when compared to people who don't have work experience."
      ],
      "metadata": {
        "id": "I9Nwmf8G1Gyq"
      }
    },
    {
      "cell_type": "markdown",
      "source": [
        "**Report:** **Analysis of Factors Influencing Placement Status and Salary**\n",
        "\n",
        "*Introduction*\n",
        "\n",
        "The job market is highly competitive, and graduates require a combination of skills and qualifications to secure jobs with high salaries. It is essential to understand the factors that influence placement status and salary in order to guide students in their academic and career choices. In this report, we analyse data to determine the parameters that influence placement status and salary.\n",
        "\n",
        "*Methodology*\n",
        "\n",
        "We analysed data using various visualisation tools to identify correlations between placement status and other parameters. We used charts to analyse the data because the correlation between salary and other parameters is inaccurate. We divided the data into two data frames, one containing data about people who were placed and the other containing data about people who were not placed.\n",
        "\n",
        "*Results*\n",
        "\n",
        "We found that nearly 116 students have completed their secondary education under the Central Board and 99 students under other boards. 130 students have completed their senior secondary education under the Other Board, and 85 students under other boards. Students with 60% or above in secondary education are more likely to get placed, and those with 80% or above are placed no matter what. Students with low as well as high employability test percentages are found to be placed, and there is no trend in the employability test percentage. Students with a pass percentage of between 60% and 70% are likely to get placed. Students with 70% and above are more likely to get placed with a much higher probability (0.92). Students who achieved between 60% and 70% are more likely to get placed than students who achieved less than 60%. Students who scored between 70% and 80% have a better chance of being placed than those who scored lower. Students who achieved 80% or above are placed, no matter what.\n",
        "\n",
        "We found that male and female employees are most likely to earn between 2,00,000 to 3,30,000 rupees per year. A woman's maximum salary is approximately Rs 6,50,000 while a man's maximum salary is approximately Rs 9,50,000 or higher. Students who studied secondary education under \"other boards\" typically earn between 2,00,000 and 3,00,000 rupees per year, with a maximum salary of Rs 5,00,000. Students who studied secondary education under the \"central board\" are found to have salaries in the range of 2,00,000 to \n",
        "4,00,000 rupees per year and a maximum salary of Rs 9,50,000. Students who completed their secondary education through \"other boards\" can expect to earn between 2,00,000 and 3,00,000 rupees per year, with a maximum salary of Rs 6,50,000. Students who studied Higher Secondary Education under the \"central board\" have a salary range of Rs 2,00,000 to Rs 4,50,000, with a maximum salary of Rs 950,000.\n",
        "\n",
        "We found that students with and without work experience have equal chances of getting placed, but salaries vary. The average salary for a student with and without work experience is found to be between Rs 2,00,000 and Rs 3,00,000. Students with work experience have been found to have significantly higher salaries ranging up to Rs 9,50,000 rupees per year. Students without work experience have a salary maximum of up to Rs 5,00,000.\n",
        "\n",
        "We found that both science and technology and commerce management students are likely to be placed with salaries ranging from \n",
        "2,00,000 to 3,70,000 rupees per year, with a maximum of Rs 7,00,000 for science and technology. Students with a commerce or management degree are more likely to be placed with salaries ranging from 3,00,000 to \n",
        "9,00,000 rupees per year. Students with other degrees can expect to earn between 2,00,000 and 3,50,000 rupees per year. Students who specialise in marketing and HR can earn between 2,00,000 and 3,00,000 rupees per year most likely"
      ],
      "metadata": {
        "id": "2sOcNm-3ADZ1"
      }
    },
    {
      "cell_type": "markdown",
      "source": [
        "**Based on the analysis of the data, an ideal candidate for placement and maximum salary would possess the following qualities:**\n",
        "\n",
        "1. *High percentage of marks in secondary and higher secondary education:* The data analysis revealed that students with 60% or above in secondary education are more likely to get placed, while those with 80% or above are placed no matter what. Similarly, students with a pass percentage of between 60% and 70% are likely to get placed. Therefore, an ideal candidate should have a high percentage of marks in their education.\n",
        "\n",
        "2. *Specialization in Commerce or Management:* Students with a commerce or management degree are more likely to be placed with higher salaries ranging from 3,00,000 to 9,00,000 rupees per year. Hence, candidates who possess a degree in commerce or management are likely to have better placement and higher salaries.\n",
        "\n",
        "3.  *Work Experience*: While students with and without work experience have equal chances of getting placed, students with work experience are found to have significantly higher salaries ranging up to Rs 9,50,000. Therefore, candidates with work experience are likely to have a better chance of getting higher salaries.\n",
        "\n",
        "4. *Gender*: Based on the data, male employees have a maximum salary of approximately Rs 9,50,000 or higher, while a woman's maximum salary is approximately Rs 6,50,000. Hence, male candidates are more likely to get higher salaries.\n",
        "\n",
        "5. *MBA percentage and placement* : Placed individuals appear to have a score of 55% or higher in their MBA education. Therefore, students with higher MBA pass percentge is most likely to get placed.\n",
        "\n",
        "\n",
        "\n",
        "\n"
      ],
      "metadata": {
        "id": "5Yty3gBWAfSq"
      }
    }
  ]
}